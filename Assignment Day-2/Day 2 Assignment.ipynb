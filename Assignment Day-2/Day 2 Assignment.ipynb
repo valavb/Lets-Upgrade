{
 "cells": [
  {
   "cell_type": "markdown",
   "metadata": {},
   "source": [
    "## Answer 1)"
   ]
  },
  {
   "cell_type": "code",
   "execution_count": 6,
   "metadata": {},
   "outputs": [
    {
     "name": "stdout",
     "output_type": "stream",
     "text": [
      "Enter a Number=>1\n",
      "Enter a Number=>2\n",
      "Enter a Number=>3\n",
      "Enter a Number=>4\n",
      "Enter a Number=>5\n",
      "Enter a Number=>6\n",
      "Enter a Number=>7\n",
      "Enter a Number=>8\n",
      "Enter a Number=>9\n",
      "Enter a Number=>10\n",
      "\n",
      "Even List=> [2, 4, 6, 8, 10]\n"
     ]
    }
   ],
   "source": [
    "# Function for checking Even Number and appending it to list\n",
    "def appendIfEven(num):\n",
    "    if num % 2 == 0 :\n",
    "        evenList.append(num)\n",
    "        \n",
    "#Empty List Creation\n",
    "evenList = list() \n",
    "\n",
    "#Taking 10 user inpt number \n",
    "for i in range(10):\n",
    "    appendIfEven(int(input(\"Enter a Number=>\")))\n",
    "\n",
    "#prinitng the desire list \n",
    "print(\"\\nEven List=>\",evenList)"
   ]
  },
  {
   "cell_type": "markdown",
   "metadata": {},
   "source": [
    "## Answer 2)"
   ]
  },
  {
   "cell_type": "markdown",
   "metadata": {},
   "source": [
    "List - list is the collection of hetrogenous data starting and ending with [  ]<br><br>\n",
    "\n",
    "for example - sampleList[1,2,\"Vala Bhagirath Singh\",3]<br><br> \n",
    "\n",
    "List are stored in indexing way -<br>\n",
    "  i) Forward Indexing - It start from 0 to last Element i.e. from starting to ending<br>\n",
    "  ii) Backword Indexing - It Start with -1 to first element  i.e from ending to starting<br><br>\n",
    "  \n",
    "Using For Loop in list -<br><br> \n",
    "    \n",
    "   sampleList = [1,2,3,\"Vala\"]<br>\n",
    "   for i in sampleList:<br>\n",
    "       print(i,end=\" \") <br>\n",
    "       Output - 1 2 3 Vala<br>\n",
    "       \n",
    "Operation in List -<br>\n",
    "1) Length of list<br>\n",
    "2) Concationation of List<br>\n",
    "3) Slicing of List<br>\n",
    "4) Append in List<br>\n",
    "5) Sorting of List<br>\n",
    "6) max() , min() , sum()<br>\n"
   ]
  },
  {
   "cell_type": "code",
   "execution_count": 7,
   "metadata": {},
   "outputs": [
    {
     "name": "stdout",
     "output_type": "stream",
     "text": [
      "[1, 2, 3, 'Vala']\n",
      "1 2 3 Vala \n",
      "Length of sampleList => 4\n",
      "['Bhagirath', 'Singh']\n",
      "Concatination of 2 list=> [1, 2, 3, 'Vala', 'Bhagirath', 'Singh']\n",
      "[2, 3]\n",
      "[1, 2, 3]\n",
      "[3, 'Vala']\n",
      "[3, 'Vala']\n",
      "[2, 3]\n",
      "Append in sampleList=> None\n",
      "Unsorted List [2, 3, 1, 5, 9]\n",
      "Sorted List=> None\n",
      "List=> [1, 2, 3, 5, 9]\n",
      "Sum of List=> 20\n",
      "List=> [1, 2, 3, 5, 9]\n",
      "Max of List=> 9\n",
      "List=> [1, 2, 3, 5, 9]\n",
      "Min of List=> 1\n"
     ]
    }
   ],
   "source": [
    "sampleList = [1,2,3,\"Vala\"]\n",
    "\n",
    "print(sampleList)\n",
    "\n",
    "# Using For Loop\n",
    "for i in sampleList:\n",
    "    print(i,end=\" \")\n",
    "\n",
    "#Length of List\n",
    "print(\"\\nLength of sampleList =>\",len(sampleList))\n",
    "\n",
    "#Concationation\n",
    "sampleList2 = [\"Bhagirath\",\"Singh\"]\n",
    "print(sampleList2)\n",
    "print(\"Concatination of 2 list=>\",sampleList+sampleList2)\n",
    "\n",
    "#Slicing of List\n",
    "print(sampleList[1:3])\n",
    "print(sampleList[:3])\n",
    "print(sampleList[2:])\n",
    "print(sampleList[-2:])\n",
    "print(sampleList[-3:-1])\n",
    "\n",
    "#Append in List\n",
    "print(\"Append in sampleList=>\",sampleList.append(\"Bhagirath\"))\n",
    "\n",
    "#Sorting a List\n",
    "sortList = [2,3,1,5,9] #only applicable in number list\n",
    "print(\"Unsorted List\",sortList)\n",
    "print(\"Sorted List=>\",sortList.sort())\n",
    "\n",
    "#sum\n",
    "print(\"List=>\",sortList)\n",
    "print(\"Sum of List=>\",sum(sortList))\n",
    "\n",
    "#Max\n",
    "print(\"List=>\",sortList)\n",
    "print(\"Max of List=>\",max(sortList))\n",
    "\n",
    "#Min\n",
    "print(\"List=>\",sortList)\n",
    "print(\"Min of List=>\",min(sortList))"
   ]
  },
  {
   "cell_type": "markdown",
   "metadata": {},
   "source": [
    "## Answer 3)"
   ]
  },
  {
   "cell_type": "code",
   "execution_count": 1,
   "metadata": {},
   "outputs": [
    {
     "name": "stdout",
     "output_type": "stream",
     "text": [
      "Input Number=>8\n",
      "{1: 1, 2: 4, 3: 9, 4: 16, 5: 25, 6: 36, 7: 49, 8: 64}\n"
     ]
    }
   ],
   "source": [
    "#Function for Creating desire Dict\n",
    "def createDic(n):\n",
    "    a = dict()\n",
    "    for i in range(1,n+1):\n",
    "        a[i] = i*i\n",
    "    \n",
    "    print(a)\n",
    "    \n",
    "#Taking Input Number from User\n",
    "createDic(int(input(\"Input Number=>\")))"
   ]
  },
  {
   "cell_type": "markdown",
   "metadata": {},
   "source": [
    "## Answer 4)"
   ]
  },
  {
   "cell_type": "code",
   "execution_count": 4,
   "metadata": {},
   "outputs": [
    {
     "name": "stdout",
     "output_type": "stream",
     "text": [
      "Enter no. of Steps =>4\n",
      "Enter Steps=>UP 5\n",
      "Enter Steps=>DOWN 3\n",
      "Enter Steps=>LEFT 3\n",
      "Enter Steps=>RIGHT 2\n",
      "Distance=> 2\n"
     ]
    }
   ],
   "source": [
    "def calcDistance(step):\n",
    "    a = step.split()\n",
    "    \n",
    "    if a[0] == \"UP\":\n",
    "        position[\"y\"] += int(a[1])\n",
    "    \n",
    "    if a[0] == \"DOWN\":\n",
    "        position[\"y\"] -= int(a[1])\n",
    "    \n",
    "    if a[0] == \"RIGHT\":\n",
    "        position[\"x\"] += int(a[1])\n",
    "    \n",
    "    if a[0] == \"LEFT\":\n",
    "        position[\"x\"] -= int(a[1])\n",
    "        \n",
    "    \n",
    "position = {\"x\":0 , \"y\":0}\n",
    "n = int(input(\"Enter no. of Steps =>\"))\n",
    "\n",
    "for i in range(n):\n",
    "    calcDistance(input(\"Enter Steps=>\"))\n",
    "    \n",
    "distance = round((position[\"x\"]**2 + position[\"y\"]**2)**0.5)\n",
    "print(\"Distance=>\",distance)"
   ]
  }
 ],
 "metadata": {
  "kernelspec": {
   "display_name": "Python 3",
   "language": "python",
   "name": "python3"
  },
  "language_info": {
   "codemirror_mode": {
    "name": "ipython",
    "version": 3
   },
   "file_extension": ".py",
   "mimetype": "text/x-python",
   "name": "python",
   "nbconvert_exporter": "python",
   "pygments_lexer": "ipython3",
   "version": "3.7.4"
  }
 },
 "nbformat": 4,
 "nbformat_minor": 2
}
