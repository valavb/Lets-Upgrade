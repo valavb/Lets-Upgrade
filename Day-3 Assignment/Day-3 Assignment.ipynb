{
 "cells": [
  {
   "cell_type": "raw",
   "metadata": {},
   "source": [
    "Importing numpy as np"
   ]
  },
  {
   "cell_type": "code",
   "execution_count": 2,
   "metadata": {},
   "outputs": [],
   "source": [
    "import numpy as np"
   ]
  },
  {
   "cell_type": "markdown",
   "metadata": {},
   "source": [
    "## Answer 1)"
   ]
  },
  {
   "cell_type": "code",
   "execution_count": 2,
   "metadata": {},
   "outputs": [
    {
     "data": {
      "text/plain": [
       "array([ 2,  5,  8, 11, 14, 17, 20, 23, 26, 29, 32, 35, 38, 41, 44, 47, 50])"
      ]
     },
     "execution_count": 2,
     "metadata": {},
     "output_type": "execute_result"
    }
   ],
   "source": [
    "np.array(np.arange(2,51,3))"
   ]
  },
  {
   "cell_type": "markdown",
   "metadata": {},
   "source": [
    "## Answer 2)"
   ]
  },
  {
   "cell_type": "code",
   "execution_count": 33,
   "metadata": {},
   "outputs": [
    {
     "name": "stdout",
     "output_type": "stream",
     "text": [
      "Enter Element in 1st list=>9\n",
      "Enter Element in 2nd list=>8\n",
      "Enter Element in 1st list=>7\n",
      "Enter Element in 2nd list=>1\n",
      "Enter Element in 1st list=>4\n",
      "Enter Element in 2nd list=>5\n",
      "Enter Element in 1st list=>6\n",
      "Enter Element in 2nd list=>3\n",
      "Enter Element in 1st list=>0\n",
      "Enter Element in 2nd list=>1\n",
      "\n",
      "\n",
      "Nump array 1st=> [9 7 4 6 0]\n",
      "Nump array 2nd=> [8 1 5 3 1]\n",
      "\n",
      "Concationation of Arr1 and Arr2 => [9 7 4 6 0 8 1 5 3 1]\n",
      "\n",
      "Sorted arr1=> [0 4 6 7 9]\n",
      "Sorted arr2=> [1 1 3 5 8]\n"
     ]
    }
   ],
   "source": [
    "#Making two empty list\n",
    "listFirst = list()\n",
    "listSecond = list()\n",
    "\n",
    "#Taking Input from User \n",
    "for i in range(5):\n",
    "    listFirst.append(int(input(\"Enter Element in 1st list=>\")))\n",
    "    listSecond.append(int(input(\"Enter Element in 2nd list=>\")))\n",
    "print()\n",
    "\n",
    "#Convertinf List into Array\n",
    "arr1 = np.array(listFirst)\n",
    "arr2 = np.array(listSecond)\n",
    "\n",
    "#Printing Both Array\n",
    "print(\"\\nArray 1st=>\",arr1)\n",
    "print(\"Array 2nd=>\",arr2)\n",
    "\n",
    "#Concatination of array\n",
    "print(\"\\nConcationation of Arr1 and Arr2 =>\",np.concatenate((arr1,arr2),axis=None))\n",
    "\n",
    "#Sorting od both array\n",
    "print(\"\\nSorted arr1=>\",np.sort(arr1))\n",
    "print(\"Sorted arr2=>\",np.sort(arr2))"
   ]
  },
  {
   "cell_type": "markdown",
   "metadata": {},
   "source": [
    "## Answer 3)"
   ]
  },
  {
   "cell_type": "code",
   "execution_count": 41,
   "metadata": {},
   "outputs": [
    {
     "name": "stdout",
     "output_type": "stream",
     "text": [
      "It is a 2 dimensional array\n",
      "Its Size is 10\n"
     ]
    }
   ],
   "source": [
    "array1 = np.array([ [1,2,3,4,5] , [1,2,3,4,5] ])\n",
    "\n",
    "#Dimension of array\n",
    "print(\"It is a\",array1.ndim,\"dimensional array\")\n",
    "print(\"Its Size is\",array1.size)"
   ]
  },
  {
   "cell_type": "markdown",
   "metadata": {},
   "source": [
    "## Answer 4)"
   ]
  },
  {
   "cell_type": "code",
   "execution_count": 49,
   "metadata": {},
   "outputs": [
    {
     "name": "stdout",
     "output_type": "stream",
     "text": [
      "Multi-D array from 1-D Array:-\n",
      " [[1]\n",
      " [2]\n",
      " [3]\n",
      " [4]]\n"
     ]
    }
   ],
   "source": [
    "newArray = np.array([1,2,3,4])\n",
    "\n",
    "print(\"Multi-D array from 1-D Array:-\\n\",np.expand_dims(newArray, axis=1))\n"
   ]
  },
  {
   "cell_type": "markdown",
   "metadata": {},
   "source": [
    "## Answer 5)"
   ]
  },
  {
   "cell_type": "code",
   "execution_count": 50,
   "metadata": {},
   "outputs": [
    {
     "name": "stdout",
     "output_type": "stream",
     "text": [
      "\n",
      "Array 1st vertically stacked:\n",
      " [[1 2 3]\n",
      " [4 5 6]\n",
      " [7 8 9]]\n",
      "Array 1st Horizontally stacked:\n",
      " [1 2 3 4 5 6 7 8 9]\n",
      "\n",
      "Array 2nd vertically stacked:\n",
      " [[11 12 13]\n",
      " [14 15 16]\n",
      " [17 18 19]]\n",
      "Array 2nd Horizontally stacked:\n",
      " [11 12 13 14 15 16 17 18 19]\n"
     ]
    }
   ],
   "source": [
    "#Two Square array\n",
    "a = np.array([ [1,2,3],[4,5,6],[7,8,9] ])\n",
    "b = np.array([ [11,12,13],[14,15,16],[17,18,19] ])\n",
    "\n",
    "#Vertically and Horizontally stacked\n",
    "print(\"\\nArray 1st vertically stacked:\\n\",np.vstack(a))\n",
    "print(\"Array 1st Horizontally stacked:\\n\",np.hstack(a))\n",
    "\n",
    "print(\"\\nArray 2nd vertically stacked:\\n\",np.vstack(b))\n",
    "print(\"Array 2nd Horizontally stacked:\\n\",np.hstack(b))"
   ]
  },
  {
   "cell_type": "markdown",
   "metadata": {},
   "source": [
    "## Answer 6)"
   ]
  },
  {
   "cell_type": "code",
   "execution_count": 5,
   "metadata": {},
   "outputs": [
    {
     "name": "stdout",
     "output_type": "stream",
     "text": [
      "Unique array element => [ 1  2  3  4  5  7  8  9 10]\n",
      "Count of Unique array element => 9\n"
     ]
    }
   ],
   "source": [
    "arrNew = np.array([1,2,2,4,5,7,8,9,3,1,4,10,2,3,5,4,5])\n",
    "\n",
    "print(\"Unique array element =>\",np.unique(arrNew))\n",
    "print(\"Count of Unique array element =>\",len(np.unique(arrNew)))"
   ]
  },
  {
   "cell_type": "code",
   "execution_count": null,
   "metadata": {},
   "outputs": [],
   "source": []
  }
 ],
 "metadata": {
  "kernelspec": {
   "display_name": "Python 3",
   "language": "python",
   "name": "python3"
  },
  "language_info": {
   "codemirror_mode": {
    "name": "ipython",
    "version": 3
   },
   "file_extension": ".py",
   "mimetype": "text/x-python",
   "name": "python",
   "nbconvert_exporter": "python",
   "pygments_lexer": "ipython3",
   "version": "3.7.4"
  }
 },
 "nbformat": 4,
 "nbformat_minor": 2
}
